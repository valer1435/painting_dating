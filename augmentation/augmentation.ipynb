{
 "cells": [
  {
   "cell_type": "code",
   "execution_count": 18,
   "metadata": {},
   "outputs": [],
   "source": [
    "import os\n",
    "def generate_csv_classes(file_path, path_to_img, cut_factor=1):\n",
    "    header = \"filename,full_filename,num_class\"\n",
    "    data = header + \"\\n\"\n",
    "    \n",
    "    timeframes = os.listdir(path_to_img)\n",
    "    \n",
    "    with open(file_path, \"w+\") as file_csv:\n",
    "        for count_class, timeframe in enumerate(timeframes):\n",
    "            timeframe_images_path = path_to_img + os.sep + timeframe\n",
    "            images = os.listdir(timeframe_images_path)\n",
    "            img_count = 0\n",
    "            for image_name in images:\n",
    "                img_count+=1\n",
    "                if img_count % cut_factor == 0: \n",
    "                    image_index = image_name.split(\".\")[0]\n",
    "                    image_path = timeframe_images_path + os.sep + image_name\n",
    "                    count_class_this = \"0\" if count_class <= 16 else str(count_class-16)\n",
    "                    data += \"{},{},{}\\n\".format(image_index, image_path, count_class_this)\n",
    "                \n",
    "        file_csv.write(data)\n",
    "CUT_FACTOR = 1\n",
    "generate_csv_classes(\"sample_full.csv\", \"../resized_images\", cut_factor=CUT_FACTOR)"
   ]
  },
  {
   "cell_type": "code",
   "execution_count": 19,
   "metadata": {},
   "outputs": [],
   "source": [
    "import pandas as pd\n",
    "df = pd.read_csv(\"sample_full.csv\")\n"
   ]
  },
  {
   "cell_type": "code",
   "execution_count": 20,
   "metadata": {},
   "outputs": [
    {
     "data": {
      "image/png": "[encoded data removed]",
      "text/plain": [
       "<Figure size 432x288 with 1 Axes>"
      ]
     },
     "metadata": {
      "needs_background": "light"
     },
     "output_type": "display_data"
    }
   ],
   "source": [
    "import matplotlib.pyplot as plt\n",
    "classes_distribution = df.iloc[:, 2].values\n",
    "a, b, c = plt.hist(classes_distribution, bins=list(range(14)))\n",
    "plt.show()"
   ]
  },
  {
   "cell_type": "code",
   "execution_count": 17,
   "metadata": {},
   "outputs": [],
   "source": [
    "# Сколько трансформированных копий нужно для каждого класса изображений, чтобы выровнять выборку\n",
    "transforms = {\n",
    "    0: 12,\n",
    "    1: 5,\n",
    "    2: 9,\n",
    "    3: 4,\n",
    "    4: 1,\n",
    "    5: 1,\n",
    "    6: 2,\n",
    "    7: 1,\n",
    "    8: 2,\n",
    "    9: 2,\n",
    "    10: 4,\n",
    "    11: 4,\n",
    "    12: 2\n",
    "}"
   ]
  },
  {
   "cell_type": "code",
   "execution_count": 1,
   "metadata": {
    "scrolled": false
   },
   "outputs": [],
   "source": [
    "from PIL import Image\n",
    "\n",
    "for row in df.iterrows():\n",
    "    row = row[1]\n",
    "    fpath = row[1]\n",
    "    data = Image.open(fpath).convert(\"RGB\")\n",
    "    \n",
    "    for i in range(transforms[row.iloc[2]]):\n",
    "        # Поворот картинок\n",
    "        if  i == 0:\n",
    "            angle = 90\n",
    "            data1 = data.rotate(angle)\n",
    "            data1.save(fpath.split('.jpg')[0]+str(i)+'.jpg')\n",
    "        if  i == 1:\n",
    "            angle = 180\n",
    "            data1 = data.rotate(angle)\n",
    "            data1.save(fpath.split('.jpg')[0]+str(i)+'.jpg')\n",
    "        if  i == 2:\n",
    "            angle = 270\n",
    "            data1 = data.rotate(angle)\n",
    "            data1.save(fpath.split('.jpg')[0]+str(i)+'.jpg')\n",
    "        # Транспонируем\n",
    "        if i == 3:\n",
    "            data1 = data.transpose(Image.FLIP_LEFT_RIGHT)\n",
    "            data1.save(fpath.split('.jpg')[0]+str(i)+'.jpg')\n",
    "        if i == 4:\n",
    "            data1 = data.transpose(Image.FLIP_TOP_BOTTOM)\n",
    "            data1.save(fpath.split('.jpg')[0]+str(i)+'.jpg')\n",
    "        # Транспонируем и переворачиваем на 90'\n",
    "        if i == 5:\n",
    "            data1 = data.transpose(Image.FLIP_LEFT_RIGHT)\n",
    "            angle = 90\n",
    "            data1 = data1.rotate(angle)\n",
    "            data1.save(fpath.split('.jpg')[0]+str(i)+'.jpg') \n",
    "        if i == 6:\n",
    "            data1 = data.transpose(Image.FLIP_TOP_BOTTOM)\n",
    "            angle = 90\n",
    "            data1 = data1.rotate(angle)\n",
    "            data1.save(fpath.split('.jpg')[0]+str(i)+'.jpg')\n",
    "            \n",
    "#         # Транспонируем и переворачиваем на 180'\n",
    "#         if i == 7:\n",
    "#             data1 = data.transpose(Image.FLIP_LEFT_RIGHT)\n",
    "#             angle = 180\n",
    "#             data1 = data1.rotate(angle)\n",
    "#             data1.save(fpath.split('.jpg')[0]+str(i)+'.jpg') \n",
    "#         if i == 8:\n",
    "#             data1 = data.transpose(Image.FLIP_TOP_BOTTOM)\n",
    "#             angle = 180\n",
    "#             data1 = data1.rotate(angle)\n",
    "#             data1.save(fpath.split('.jpg')[0]+str(i)+'.jpg')\n",
    "\n",
    "#         # Транспонируем и переворачиваем на 270'\n",
    "#         if i == 9:\n",
    "#             data1 = data.transpose(Image.FLIP_LEFT_RIGHT)\n",
    "#             angle = 270\n",
    "#             data1 = data1.rotate(angle)\n",
    "#             data1.save(fpath.split('.jpg')[0]+str(i)+'.jpg') \n",
    "#         if i == 10:\n",
    "#             data1 = data.transpose(Image.FLIP_TOP_BOTTOM)\n",
    "#             angle = 270\n",
    "#             data1 = data1.rotate(angle)\n",
    "#             data1.save(fpath.split('.jpg')[0]+str(i)+'.jpg')\n",
    "#         # Транспонируем слева-направо и сверху-вниз\n",
    "#         if i == 11:\n",
    "#             data1 = data.transpose(Image.FLIP_TOP_BOTTOM).transpose(Image.FLIP_LEFT_RIGHT)\n",
    "#             angle = 270\n",
    "#             data1 = data1.rotate(angle)\n",
    "#             data1.save(fpath.split('.jpg')[0]+str(i)+'.jpg')\n",
    "            \n",
    "        \n",
    "        \n",
    "        "
   ]
  },
  {
   "cell_type": "markdown",
   "metadata": {},
   "source": [
    "## Сгенерируем csv файл для новой выборки"
   ]
  },
  {
   "cell_type": "code",
   "execution_count": 21,
   "metadata": {},
   "outputs": [],
   "source": [
    "generate_csv_classes(\"sample_full_augmentated.csv\", \"../resized_images_augmentated\", cut_factor=CUT_FACTOR)"
   ]
  },
  {
   "cell_type": "code",
   "execution_count": 23,
   "metadata": {},
   "outputs": [],
   "source": [
    "\n",
    "df = pd.read_csv(\"sample_full_augmentated.csv\")"
   ]
  },
  {
   "cell_type": "code",
   "execution_count": 25,
   "metadata": {},
   "outputs": [
    {
     "data": {
      "image/png": "[encoded data removed]",
      "text/plain": [
       "<Figure size 432x288 with 1 Axes>"
      ]
     },
     "metadata": {
      "needs_background": "light"
     },
     "output_type": "display_data"
    }
   ],
   "source": [
    "import matplotlib.pyplot as plt\n",
    "classes_distribution = df.iloc[:, 2].values\n",
    "plt.hist(classes_distribution, bins=list(range(14)))\n",
    "plt.show()"
   ]
  },
  {
   "cell_type": "code",
   "execution_count": null,
   "metadata": {},
   "outputs": [],
   "source": []
  }
 ],
 "metadata": {
  "kernelspec": {
   "display_name": "Python 3",
   "language": "python",
   "name": "python3"
  },
  "language_info": {
   "codemirror_mode": {
    "name": "ipython",
    "version": 3
   },
   "file_extension": ".py",
   "mimetype": "text/x-python",
   "name": "python",
   "nbconvert_exporter": "python",
   "pygments_lexer": "ipython3",
   "version": "3.7.3"
  }
 },
 "nbformat": 4,
 "nbformat_minor": 2
}
