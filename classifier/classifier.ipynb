{
 "cells": [
  {
   "cell_type": "code",
   "execution_count": 1,
   "metadata": {},
   "outputs": [],
   "source": [
    "import pandas as pd\n",
    "import numpy as np\n",
    "import matplotlib.pyplot as plt\n",
    "import seaborn as sns\n",
    "sns.set()\n",
    "from sklearn.metrics import f1_score, mean_squared_error, mean_squared_log_error, confusion_matrix, plot_confusion_matrix"
   ]
  },
  {
   "cell_type": "code",
   "execution_count": 2,
   "metadata": {},
   "outputs": [
    {
     "data": {
      "text/html": [
       "<div>\n",
       "<style scoped>\n",
       "    .dataframe tbody tr th:only-of-type {\n",
       "        vertical-align: middle;\n",
       "    }\n",
       "\n",
       "    .dataframe tbody tr th {\n",
       "        vertical-align: top;\n",
       "    }\n",
       "\n",
       "    .dataframe thead th {\n",
       "        text-align: right;\n",
       "    }\n",
       "</style>\n",
       "<table border=\"1\" class=\"dataframe\">\n",
       "  <thead>\n",
       "    <tr style=\"text-align: right;\">\n",
       "      <th></th>\n",
       "      <th>Unnamed: 0</th>\n",
       "      <th>0</th>\n",
       "      <th>1</th>\n",
       "      <th>2</th>\n",
       "      <th>3</th>\n",
       "      <th>4</th>\n",
       "      <th>5</th>\n",
       "      <th>6</th>\n",
       "      <th>7</th>\n",
       "      <th>8</th>\n",
       "      <th>...</th>\n",
       "      <th>8183</th>\n",
       "      <th>8184</th>\n",
       "      <th>8185</th>\n",
       "      <th>8186</th>\n",
       "      <th>8187</th>\n",
       "      <th>8188</th>\n",
       "      <th>8189</th>\n",
       "      <th>8190</th>\n",
       "      <th>8191</th>\n",
       "      <th>label</th>\n",
       "    </tr>\n",
       "  </thead>\n",
       "  <tbody>\n",
       "    <tr>\n",
       "      <th>0</th>\n",
       "      <td>0</td>\n",
       "      <td>0.053680</td>\n",
       "      <td>0.021716</td>\n",
       "      <td>0.038365</td>\n",
       "      <td>0.018978</td>\n",
       "      <td>0.050558</td>\n",
       "      <td>0.014487</td>\n",
       "      <td>0.045645</td>\n",
       "      <td>0.024229</td>\n",
       "      <td>0.048973</td>\n",
       "      <td>...</td>\n",
       "      <td>0.001566</td>\n",
       "      <td>0.004200</td>\n",
       "      <td>0.003694</td>\n",
       "      <td>0.000292</td>\n",
       "      <td>0.003339</td>\n",
       "      <td>0.001020</td>\n",
       "      <td>0.002229</td>\n",
       "      <td>0.016256</td>\n",
       "      <td>0.025035</td>\n",
       "      <td>tensor([28])</td>\n",
       "    </tr>\n",
       "    <tr>\n",
       "      <th>1</th>\n",
       "      <td>1</td>\n",
       "      <td>0.021406</td>\n",
       "      <td>0.009394</td>\n",
       "      <td>0.019303</td>\n",
       "      <td>0.015335</td>\n",
       "      <td>0.019127</td>\n",
       "      <td>0.014633</td>\n",
       "      <td>0.023476</td>\n",
       "      <td>0.011325</td>\n",
       "      <td>0.012859</td>\n",
       "      <td>...</td>\n",
       "      <td>0.009081</td>\n",
       "      <td>0.025631</td>\n",
       "      <td>0.024931</td>\n",
       "      <td>0.004471</td>\n",
       "      <td>0.024436</td>\n",
       "      <td>0.029047</td>\n",
       "      <td>0.023606</td>\n",
       "      <td>0.028000</td>\n",
       "      <td>0.037590</td>\n",
       "      <td>tensor([23])</td>\n",
       "    </tr>\n",
       "    <tr>\n",
       "      <th>2</th>\n",
       "      <td>2</td>\n",
       "      <td>0.115857</td>\n",
       "      <td>0.084943</td>\n",
       "      <td>0.114644</td>\n",
       "      <td>0.093135</td>\n",
       "      <td>0.122910</td>\n",
       "      <td>0.093698</td>\n",
       "      <td>0.117069</td>\n",
       "      <td>0.075236</td>\n",
       "      <td>0.093919</td>\n",
       "      <td>...</td>\n",
       "      <td>0.075077</td>\n",
       "      <td>0.099196</td>\n",
       "      <td>0.101704</td>\n",
       "      <td>0.090110</td>\n",
       "      <td>0.098861</td>\n",
       "      <td>0.094983</td>\n",
       "      <td>0.082206</td>\n",
       "      <td>0.092425</td>\n",
       "      <td>0.092932</td>\n",
       "      <td>tensor([21])</td>\n",
       "    </tr>\n",
       "    <tr>\n",
       "      <th>3</th>\n",
       "      <td>3</td>\n",
       "      <td>0.092928</td>\n",
       "      <td>0.051591</td>\n",
       "      <td>0.086338</td>\n",
       "      <td>0.086184</td>\n",
       "      <td>0.103702</td>\n",
       "      <td>0.069361</td>\n",
       "      <td>0.084398</td>\n",
       "      <td>0.062472</td>\n",
       "      <td>0.091986</td>\n",
       "      <td>...</td>\n",
       "      <td>0.053972</td>\n",
       "      <td>0.068832</td>\n",
       "      <td>0.099421</td>\n",
       "      <td>0.070727</td>\n",
       "      <td>0.071631</td>\n",
       "      <td>0.074135</td>\n",
       "      <td>0.081881</td>\n",
       "      <td>0.080839</td>\n",
       "      <td>0.035885</td>\n",
       "      <td>tensor([24])</td>\n",
       "    </tr>\n",
       "    <tr>\n",
       "      <th>4</th>\n",
       "      <td>4</td>\n",
       "      <td>0.038478</td>\n",
       "      <td>0.010042</td>\n",
       "      <td>0.029132</td>\n",
       "      <td>0.033505</td>\n",
       "      <td>0.033954</td>\n",
       "      <td>0.027581</td>\n",
       "      <td>0.038581</td>\n",
       "      <td>0.024783</td>\n",
       "      <td>0.026107</td>\n",
       "      <td>...</td>\n",
       "      <td>0.049384</td>\n",
       "      <td>0.054094</td>\n",
       "      <td>0.071051</td>\n",
       "      <td>0.051793</td>\n",
       "      <td>0.062743</td>\n",
       "      <td>0.064802</td>\n",
       "      <td>0.057165</td>\n",
       "      <td>0.076673</td>\n",
       "      <td>0.046724</td>\n",
       "      <td>tensor([28])</td>\n",
       "    </tr>\n",
       "  </tbody>\n",
       "</table>\n",
       "<p>5 rows × 8194 columns</p>\n",
       "</div>"
      ],
      "text/plain": [
       "   Unnamed: 0         0         1         2         3         4         5  \\\n",
       "0           0  0.053680  0.021716  0.038365  0.018978  0.050558  0.014487   \n",
       "1           1  0.021406  0.009394  0.019303  0.015335  0.019127  0.014633   \n",
       "2           2  0.115857  0.084943  0.114644  0.093135  0.122910  0.093698   \n",
       "3           3  0.092928  0.051591  0.086338  0.086184  0.103702  0.069361   \n",
       "4           4  0.038478  0.010042  0.029132  0.033505  0.033954  0.027581   \n",
       "\n",
       "          6         7         8  ...      8183      8184      8185      8186  \\\n",
       "0  0.045645  0.024229  0.048973  ...  0.001566  0.004200  0.003694  0.000292   \n",
       "1  0.023476  0.011325  0.012859  ...  0.009081  0.025631  0.024931  0.004471   \n",
       "2  0.117069  0.075236  0.093919  ...  0.075077  0.099196  0.101704  0.090110   \n",
       "3  0.084398  0.062472  0.091986  ...  0.053972  0.068832  0.099421  0.070727   \n",
       "4  0.038581  0.024783  0.026107  ...  0.049384  0.054094  0.071051  0.051793   \n",
       "\n",
       "       8187      8188      8189      8190      8191         label  \n",
       "0  0.003339  0.001020  0.002229  0.016256  0.025035  tensor([28])  \n",
       "1  0.024436  0.029047  0.023606  0.028000  0.037590  tensor([23])  \n",
       "2  0.098861  0.094983  0.082206  0.092425  0.092932  tensor([21])  \n",
       "3  0.071631  0.074135  0.081881  0.080839  0.035885  tensor([24])  \n",
       "4  0.062743  0.064802  0.057165  0.076673  0.046724  tensor([28])  \n",
       "\n",
       "[5 rows x 8194 columns]"
      ]
     },
     "execution_count": 2,
     "metadata": {},
     "output_type": "execute_result"
    }
   ],
   "source": [
    "train = pd.read_csv('train.csv')\n",
    "train.head()"
   ]
  },
  {
   "cell_type": "code",
   "execution_count": 3,
   "metadata": {},
   "outputs": [],
   "source": [
    "val = pd.read_csv('val.csv')\n",
    "test = val.tail(len(val) // 2)\n",
    "test.reset_index(inplace=True)\n",
    "val = val.head(len(val) // 2)"
   ]
  },
  {
   "cell_type": "code",
   "execution_count": 4,
   "metadata": {},
   "outputs": [],
   "source": [
    "y_train = [int(train['label'][i][8:-2]) for i in range(len(train['label']))]\n",
    "y_test = [int(test['label'][i][8:-2]) for i in range(len(test['label']))]\n",
    "y_val = [int(val['label'][i][8:-2]) for i in range(len(val['label']))]\n",
    "# У меня был неправильно сохранённый файл csv, в правильном случае используйте следующие строки\n",
    "# y_train = train['label']\n",
    "# y_test = test['label']\n",
    "# y_val = val['label']"
   ]
  },
  {
   "cell_type": "code",
   "execution_count": 5,
   "metadata": {},
   "outputs": [],
   "source": [
    "columns = train.columns[1:]\n",
    "X_train = train[columns[:-1]]\n",
    "X_test = test[columns[:-1]]\n",
    "X_val = val[columns[:-1]]"
   ]
  },
  {
   "cell_type": "markdown",
   "metadata": {},
   "source": [
    "### Объединим часть объектов"
   ]
  },
  {
   "cell_type": "code",
   "execution_count": 6,
   "metadata": {},
   "outputs": [],
   "source": [
    "def replace_1300(y):\n",
    "    for i in range(len(y)):\n",
    "        y[i] = max(y[i], 16)\n",
    "        \n",
    "replace_1300(y_test)\n",
    "replace_1300(y_train)\n",
    "replace_1300(y_val)"
   ]
  },
  {
   "cell_type": "markdown",
   "metadata": {},
   "source": [
    "### Отбор признаков\n",
    "Без него работает лучше."
   ]
  },
  {
   "cell_type": "code",
   "execution_count": 129,
   "metadata": {
    "scrolled": true
   },
   "outputs": [
    {
     "name": "stderr",
     "output_type": "stream",
     "text": [
      "[Parallel(n_jobs=-1)]: Using backend ThreadingBackend with 12 concurrent workers.\n",
      "[Parallel(n_jobs=-1)]: Done  26 tasks      | elapsed:    1.1s\n",
      "[Parallel(n_jobs=-1)]: Done 176 tasks      | elapsed:    6.3s\n",
      "[Parallel(n_jobs=-1)]: Done 426 tasks      | elapsed:   15.3s\n",
      "[Parallel(n_jobs=-1)]: Done 500 out of 500 | elapsed:   17.9s finished\n"
     ]
    },
    {
     "data": {
      "text/plain": [
       "RandomForestClassifier(max_depth=20, max_features='log2', n_estimators=500,\n",
       "                       n_jobs=-1, verbose=1)"
      ]
     },
     "execution_count": 129,
     "metadata": {},
     "output_type": "execute_result"
    }
   ],
   "source": [
    "from sklearn.ensemble import RandomForestClassifier\n",
    "\n",
    "rf_features = RandomForestClassifier(n_estimators=500, max_features='log2', max_depth=20,\n",
    "                                     criterion='gini', verbose=1, n_jobs=-1)\n",
    "rf_features.fit(X_train, y_train)\n",
    "rf_predict = rf_features.predict(X_val)"
   ]
  },
  {
   "cell_type": "code",
   "execution_count": 174,
   "metadata": {},
   "outputs": [],
   "source": [
    "importance = rf_features.feature_importances_\n",
    "all_features = columns\n",
    "importance, all_features = zip(*sorted(zip(importance, all_features)))\n",
    "rf_train = X_train[:][list(all_features[-5000:])]\n",
    "rf_val = X_val[:][list(all_features[-5000:])]"
   ]
  },
  {
   "cell_type": "markdown",
   "metadata": {},
   "source": [
    "### Обучение"
   ]
  },
  {
   "cell_type": "code",
   "execution_count": 8,
   "metadata": {},
   "outputs": [],
   "source": [
    "from sklearn.svm import SVC, LinearSVC\n",
    "from sklearn.linear_model import SGDClassifier"
   ]
  },
  {
   "cell_type": "code",
   "execution_count": 9,
   "metadata": {},
   "outputs": [],
   "source": [
    "sgd = SGDClassifier(n_jobs=-1, verbose=0)\n",
    "sgd.fit(X_train, y_train"
   ]
  },
  {
   "cell_type": "code",
   "execution_count": 19,
   "metadata": {},
   "outputs": [
    {
     "name": "stdout",
     "output_type": "stream",
     "text": [
      "0.388951160928743\n",
      "7.325700560448358\n"
     ]
    },
    {
     "data": {
      "image/png": "[encoded data removed]",
      "text/plain": [
       "<Figure size 504x504 with 1 Axes>"
      ]
     },
     "metadata": {},
     "output_type": "display_data"
    }
   ],
   "source": [
    "sgd_predict = sgd.predict(X_val)\n",
    "print(f1_score(y_val, sgd_predict, average='micro'), mean_squared_error(y_val, sgd_predict), sep='\\n')\n",
    "cmat = confusion_matrix(y_val, sgd_predict)\n",
    "plt.figure(figsize=(7,7))\n",
    "sns.heatmap(cmat/np.sum(cmat, axis=0), annot=False, cbar=False,\n",
    "            xticklabels=[1300 + i*50 for i in range(13)], yticklabels=[1300 + i*50 for i in range(13)], cmap='Blues') \n",
    "plt.show()"
   ]
  },
  {
   "cell_type": "code",
   "execution_count": 22,
   "metadata": {},
   "outputs": [
    {
     "name": "stdout",
     "output_type": "stream",
     "text": [
      "[LibLinear]"
     ]
    },
    {
     "name": "stderr",
     "output_type": "stream",
     "text": [
      "C:\\ProgramData\\Anaconda3\\lib\\site-packages\\sklearn\\svm\\_base.py:976: ConvergenceWarning: Liblinear failed to converge, increase the number of iterations.\n",
      "  warnings.warn(\"Liblinear failed to converge, increase \"\n"
     ]
    },
    {
     "data": {
      "text/plain": [
       "LinearSVC(verbose=2)"
      ]
     },
     "execution_count": 22,
     "metadata": {},
     "output_type": "execute_result"
    }
   ],
   "source": [
    "linear_svc = LinearSVC(verbose=2, max_iter=1000)\n",
    "linear_svc.fit(X_train, y_train)"
   ]
  },
  {
   "cell_type": "code",
   "execution_count": 25,
   "metadata": {},
   "outputs": [],
   "source": [
    "svc_predict = linear_svc.predict(X_test)"
   ]
  },
  {
   "cell_type": "code",
   "execution_count": 26,
   "metadata": {},
   "outputs": [
    {
     "name": "stdout",
     "output_type": "stream",
     "text": [
      "0.5082465972778223\n",
      "4.035548438751001\n"
     ]
    },
    {
     "data": {
      "image/png": "[encoded data removed]",
      "text/plain": [
       "<Figure size 432x432 with 1 Axes>"
      ]
     },
     "metadata": {},
     "output_type": "display_data"
    }
   ],
   "source": [
    "print(f1_score(y_test, svc_predict, average='micro'), mean_squared_error(y_test, svc_predict), sep='\\n')\n",
    "cmat = confusion_matrix(y_test, svc_predict)\n",
    "plt.figure(figsize=(6,6))\n",
    "sns.heatmap(cmat/np.sum(cmat, axis=0), annot=False, cbar=False)\n",
    "plt.show()"
   ]
  },
  {
   "cell_type": "code",
   "execution_count": 29,
   "metadata": {},
   "outputs": [
    {
     "data": {
      "text/plain": [
       "['linear_svc.pkl']"
      ]
     },
     "execution_count": 29,
     "metadata": {},
     "output_type": "execute_result"
    }
   ],
   "source": [
    "import joblib\n",
    "joblib.dump(linear_svc, 'linear_svc.pkl')"
   ]
  },
  {
   "cell_type": "code",
   "execution_count": null,
   "metadata": {},
   "outputs": [
    {
     "name": "stdout",
     "output_type": "stream",
     "text": [
      "[LibLinear]"
     ]
    }
   ],
   "source": [
    "linear_svc_balanced = LinearSVC(verbose=2, class_weight='balanced')\n",
    "linear_svc_balanced.fit(X_train, y_train)"
   ]
  },
  {
   "cell_type": "code",
   "execution_count": null,
   "metadata": {},
   "outputs": [],
   "source": [
    "linear_svc_balanced_predict ="
   ]
  },
  {
   "cell_type": "code",
   "execution_count": null,
   "metadata": {},
   "outputs": [],
   "source": [
    "print(f1_score(y_test, svc_predict, average='micro'), mean_squared_error(y_test, svc_predict), sep='\\n')\n",
    "cmat = confusion_matrix(y_test, svc_predict)\n",
    "plt.figure(figsize=(7,7))\n",
    "sns.heatmap(cmat/np.sum(cmat, axis=0), annot=False, cbar=False,\n",
    "            xticklabels=[1300 + i*50 for i in range(13)], yticklabels=[1300 + i*50 for i in range(13)], cmap='Blues')\n",
    "plt.show()"
   ]
  },
  {
   "cell_type": "markdown",
   "metadata": {},
   "source": [
    "### Оценка"
   ]
  },
  {
   "cell_type": "code",
   "execution_count": 21,
   "metadata": {},
   "outputs": [
    {
     "name": "stdout",
     "output_type": "stream",
     "text": [
      "0.39295436349079266\n",
      "7.351801441152922\n"
     ]
    },
    {
     "data": {
      "image/png": "[encoded data removed]",
      "text/plain": [
       "<Figure size 504x504 with 1 Axes>"
      ]
     },
     "metadata": {},
     "output_type": "display_data"
    }
   ],
   "source": [
    "sgd_predict = sgd.predict(X_test)\n",
    "print(f1_score(y_test, sgd_predict, average='micro'), mean_squared_error(y_test, sgd_predict), sep='\\n')\n",
    "cmat = confusion_matrix(y_test, sgd_predict)\n",
    "plt.figure(figsize=(7,7))\n",
    "sns.heatmap(cmat/np.sum(cmat, axis=0), annot=False, cbar=False,\n",
    "            xticklabels=[1300 + i*50 for i in range(13)], yticklabels=[1300 + i*50 for i in range(13)], cmap='Blues')\n",
    "plt.show()"
   ]
  }
 ],
 "metadata": {
  "kernelspec": {
   "display_name": "Python 3",
   "language": "python",
   "name": "python3"
  },
  "language_info": {
   "codemirror_mode": {
    "name": "ipython",
    "version": 3
   },
   "file_extension": ".py",
   "mimetype": "text/x-python",
   "name": "python",
   "nbconvert_exporter": "python",
   "pygments_lexer": "ipython3",
   "version": "3.8.5"
  }
 },
 "nbformat": 4,
 "nbformat_minor": 4
}
