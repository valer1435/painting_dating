{
 "cells": [
  {
   "cell_type": "code",
   "execution_count": 14,
   "metadata": {},
   "outputs": [],
   "source": [
    "import os\n",
    "import random\n",
    "\n",
    "from PIL import Image\n",
    "\n",
    "import torch\n",
    "import torch.nn as nn\n",
    "import torch.nn.functional as F\n",
    "import torchvision.models as models\n",
    "from torch.utils.data import DataLoader\n",
    "from torch.utils.data.dataset import Dataset\n",
    "from torch.utils.data.sampler import SubsetRandomSampler \n",
    "from torchvision import transforms\n",
    "\n",
    "import numpy as np\n",
    "\n",
    "import pandas as pd"
   ]
  },
  {
   "cell_type": "code",
   "execution_count": 15,
   "metadata": {},
   "outputs": [],
   "source": [
    "TRAIN_IMAGES_PATH = os.sep.join([\"..\", \"resized_images\"]) # относительный путь к папке с картинками\n",
    "\n",
    "CSV_PATH = \"sample_full.csv\"\n",
    "\n",
    "IMAGE_NORMAL_SIZE = (224, 224)\n",
    "GRAM_SIZE = 512\n",
    "\n",
    "RANDOM_SEED = 4545435\n",
    "DEVICE = torch.device(\"cuda\" if torch.cuda.is_available() else \"cpu\")\n",
    "CPU = torch.device(\"cpu\")"
   ]
  },
  {
   "cell_type": "code",
   "execution_count": 16,
   "metadata": {},
   "outputs": [],
   "source": [
    "class MyCustomDataset(Dataset):\n",
    "    def __init__(self, dict_path):\n",
    "        self.transformations = transforms.Compose([\n",
    "            transforms.ToTensor(),\n",
    "            transforms.Normalize((0.5, 0.5, 0.5), (0.5, 0.5, 0.5))\n",
    "        ])\n",
    "        self.class_dict = pd.read_csv(dict_path)\n",
    "        \n",
    "    def __getitem__(self, index):\n",
    "        row = self.class_dict.iloc[index]\n",
    "        file_path = row[1]\n",
    "        \n",
    "        data = Image.open(file_path).convert(\"RGB\").resize(IMAGE_NORMAL_SIZE)\n",
    "        data = self.transformations(data)  # (3)\n",
    "        \n",
    "        label = row[2]\n",
    "        \n",
    "        return data, label\n",
    "\n",
    "    def __len__(self):\n",
    "        return self.class_dict.index.shape[0]\n",
    "    \n",
    "\n",
    "class StyleMatrix(nn.Module):\n",
    "    def __init__(self):\n",
    "        super(StyleMatrix, self).__init__()\n",
    "\n",
    "    def forward(self, input_):\n",
    "         return __class__.gram_matrix(input_)\n",
    "    \n",
    "    @staticmethod\n",
    "    def gram_matrix(inp): # исправленная версия\n",
    "        a, b, c, d = inp.size()  # a=batch size(=1)\n",
    "        # b=number of feature maps\n",
    "        # (c, d)=dimensions of a f. map (N=c*d)\n",
    "\n",
    "        features = inp.view(a, b, c * d)  # resise F_XL into \\hat F_XL\n",
    "        G = torch.empty((a, b, b))\n",
    "        for i in range(a):\n",
    "            G[i] = torch.mm(features[i], features[i].t())\n",
    "\n",
    "        # we 'normalize' the values of the gram matrix\n",
    "        # by dividing by the number of element in each feature maps.\n",
    "        return G.div(a * b * c * d)"
   ]
  },
  {
   "cell_type": "markdown",
   "metadata": {},
   "source": [
    "## Урезанная сеть ResNet18"
   ]
  },
  {
   "cell_type": "code",
   "execution_count": 17,
   "metadata": {},
   "outputs": [
    {
     "name": "stderr",
     "output_type": "stream",
     "text": [
      "Using cache found in C:\\Users\\Valery/.cache\\torch\\hub\\pytorch_vision_v0.6.0\n"
     ]
    },
    {
     "data": {
      "text/plain": [
       "Sequential(\n",
       "  (0): Conv2d(3, 64, kernel_size=(7, 7), stride=(2, 2), padding=(3, 3), bias=False)\n",
       "  (1): BatchNorm2d(64, eps=1e-05, momentum=0.1, affine=True, track_running_stats=True)\n",
       "  (2): ReLU(inplace=True)\n",
       "  (3): MaxPool2d(kernel_size=3, stride=2, padding=1, dilation=1, ceil_mode=False)\n",
       "  (4): Sequential(\n",
       "    (0): BasicBlock(\n",
       "      (conv1): Conv2d(64, 64, kernel_size=(3, 3), stride=(1, 1), padding=(1, 1), bias=False)\n",
       "      (bn1): BatchNorm2d(64, eps=1e-05, momentum=0.1, affine=True, track_running_stats=True)\n",
       "      (relu): ReLU(inplace=True)\n",
       "      (conv2): Conv2d(64, 64, kernel_size=(3, 3), stride=(1, 1), padding=(1, 1), bias=False)\n",
       "      (bn2): BatchNorm2d(64, eps=1e-05, momentum=0.1, affine=True, track_running_stats=True)\n",
       "    )\n",
       "    (1): BasicBlock(\n",
       "      (conv1): Conv2d(64, 64, kernel_size=(3, 3), stride=(1, 1), padding=(1, 1), bias=False)\n",
       "      (bn1): BatchNorm2d(64, eps=1e-05, momentum=0.1, affine=True, track_running_stats=True)\n",
       "      (relu): ReLU(inplace=True)\n",
       "      (conv2): Conv2d(64, 64, kernel_size=(3, 3), stride=(1, 1), padding=(1, 1), bias=False)\n",
       "      (bn2): BatchNorm2d(64, eps=1e-05, momentum=0.1, affine=True, track_running_stats=True)\n",
       "    )\n",
       "  )\n",
       "  (5): Sequential(\n",
       "    (0): BasicBlock(\n",
       "      (conv1): Conv2d(64, 128, kernel_size=(3, 3), stride=(2, 2), padding=(1, 1), bias=False)\n",
       "      (bn1): BatchNorm2d(128, eps=1e-05, momentum=0.1, affine=True, track_running_stats=True)\n",
       "      (relu): ReLU(inplace=True)\n",
       "      (conv2): Conv2d(128, 128, kernel_size=(3, 3), stride=(1, 1), padding=(1, 1), bias=False)\n",
       "      (bn2): BatchNorm2d(128, eps=1e-05, momentum=0.1, affine=True, track_running_stats=True)\n",
       "      (downsample): Sequential(\n",
       "        (0): Conv2d(64, 128, kernel_size=(1, 1), stride=(2, 2), bias=False)\n",
       "        (1): BatchNorm2d(128, eps=1e-05, momentum=0.1, affine=True, track_running_stats=True)\n",
       "      )\n",
       "    )\n",
       "    (1): BasicBlock(\n",
       "      (conv1): Conv2d(128, 128, kernel_size=(3, 3), stride=(1, 1), padding=(1, 1), bias=False)\n",
       "      (bn1): BatchNorm2d(128, eps=1e-05, momentum=0.1, affine=True, track_running_stats=True)\n",
       "      (relu): ReLU(inplace=True)\n",
       "      (conv2): Conv2d(128, 128, kernel_size=(3, 3), stride=(1, 1), padding=(1, 1), bias=False)\n",
       "      (bn2): BatchNorm2d(128, eps=1e-05, momentum=0.1, affine=True, track_running_stats=True)\n",
       "    )\n",
       "  )\n",
       "  (6): Sequential(\n",
       "    (0): BasicBlock(\n",
       "      (conv1): Conv2d(128, 256, kernel_size=(3, 3), stride=(2, 2), padding=(1, 1), bias=False)\n",
       "      (bn1): BatchNorm2d(256, eps=1e-05, momentum=0.1, affine=True, track_running_stats=True)\n",
       "      (relu): ReLU(inplace=True)\n",
       "      (conv2): Conv2d(256, 256, kernel_size=(3, 3), stride=(1, 1), padding=(1, 1), bias=False)\n",
       "      (bn2): BatchNorm2d(256, eps=1e-05, momentum=0.1, affine=True, track_running_stats=True)\n",
       "      (downsample): Sequential(\n",
       "        (0): Conv2d(128, 256, kernel_size=(1, 1), stride=(2, 2), bias=False)\n",
       "        (1): BatchNorm2d(256, eps=1e-05, momentum=0.1, affine=True, track_running_stats=True)\n",
       "      )\n",
       "    )\n",
       "    (1): BasicBlock(\n",
       "      (conv1): Conv2d(256, 256, kernel_size=(3, 3), stride=(1, 1), padding=(1, 1), bias=False)\n",
       "      (bn1): BatchNorm2d(256, eps=1e-05, momentum=0.1, affine=True, track_running_stats=True)\n",
       "      (relu): ReLU(inplace=True)\n",
       "      (conv2): Conv2d(256, 256, kernel_size=(3, 3), stride=(1, 1), padding=(1, 1), bias=False)\n",
       "      (bn2): BatchNorm2d(256, eps=1e-05, momentum=0.1, affine=True, track_running_stats=True)\n",
       "    )\n",
       "  )\n",
       "  (7): Sequential(\n",
       "    (0): BasicBlock(\n",
       "      (conv1): Conv2d(256, 512, kernel_size=(3, 3), stride=(2, 2), padding=(1, 1), bias=False)\n",
       "      (bn1): BatchNorm2d(512, eps=1e-05, momentum=0.1, affine=True, track_running_stats=True)\n",
       "      (relu): ReLU(inplace=True)\n",
       "      (conv2): Conv2d(512, 512, kernel_size=(3, 3), stride=(1, 1), padding=(1, 1), bias=False)\n",
       "      (bn2): BatchNorm2d(512, eps=1e-05, momentum=0.1, affine=True, track_running_stats=True)\n",
       "      (downsample): Sequential(\n",
       "        (0): Conv2d(256, 512, kernel_size=(1, 1), stride=(2, 2), bias=False)\n",
       "        (1): BatchNorm2d(512, eps=1e-05, momentum=0.1, affine=True, track_running_stats=True)\n",
       "      )\n",
       "    )\n",
       "    (1): BasicBlock(\n",
       "      (conv1): Conv2d(512, 512, kernel_size=(3, 3), stride=(1, 1), padding=(1, 1), bias=False)\n",
       "      (bn1): BatchNorm2d(512, eps=1e-05, momentum=0.1, affine=True, track_running_stats=True)\n",
       "      (relu): ReLU(inplace=True)\n",
       "      (conv2): Conv2d(512, 512, kernel_size=(3, 3), stride=(1, 1), padding=(1, 1), bias=False)\n",
       "      (bn2): BatchNorm2d(512, eps=1e-05, momentum=0.1, affine=True, track_running_stats=True)\n",
       "    )\n",
       "  )\n",
       "  (8): AdaptiveAvgPool2d(output_size=(1, 1))\n",
       "  (9): StyleMatrix()\n",
       ")"
      ]
     },
     "execution_count": 17,
     "metadata": {},
     "output_type": "execute_result"
    }
   ],
   "source": [
    "resnet_18 = torch.hub.load('pytorch/vision:v0.6.0', 'resnet18', pretrained=True)\n",
    "# or any of these variants\n",
    "# model = torch.hub.load('pytorch/vision:v0.6.0', 'resnet34', pretrained=True)\n",
    "# model = torch.hub.load('pytorch/vision:v0.6.0', 'resnet50', pretrained=True)\n",
    "# model = torch.hub.load('pytorch/vision:v0.6.0', 'resnet101', pretrained=True)\n",
    "# model = torch.hub.load('pytorch/vision:v0.6.0', 'resnet152', pretrained=True)\n",
    "our_resnet_18 = torch.nn.Sequential(*list(resnet_18.children())[:-1]+[StyleMatrix()])\n",
    "torch.save(our_resnet_18.state_dict(), \"our_resnet_18.pth\") # на случай, если придется пересохранять сетку\n",
    "our_resnet_18.load_state_dict(torch.load(\"our_resnet_18.pth\"))\n",
    "our_resnet_18.eval()"
   ]
  },
  {
   "cell_type": "markdown",
   "metadata": {},
   "source": [
    "## Создание списка всех изображений (номер - путь к файлу - класс) \n",
    "Аргументы: file_path-название результирующего файла, cut_factor-как \"порезать\" датасет (cut_factor=2 будет выбирать только каждую 2 картинку.  \n",
    "Чем больше cut_factor-тем меньше датасет, выбрать полный датасет-cut_factor=1)"
   ]
  },
  {
   "cell_type": "code",
   "execution_count": 24,
   "metadata": {},
   "outputs": [],
   "source": [
    "def generate_csv_classes(file_path, cut_factor=1):\n",
    "    header = \"filename, full_filename, num_class\"\n",
    "    data = header + \"\\n\"\n",
    "    \n",
    "    timeframes = os.listdir(TRAIN_IMAGES_PATH)\n",
    "    \n",
    "    with open(file_path, \"w+\") as file_csv:\n",
    "        for count_class, timeframe in enumerate(timeframes):\n",
    "            timeframe_images_path = TRAIN_IMAGES_PATH + os.sep + timeframe\n",
    "            images = os.listdir(timeframe_images_path)\n",
    "            img_count = 0\n",
    "            for image_name in images:\n",
    "                img_count+=1\n",
    "                if img_count % cut_factor == 0: \n",
    "                    image_index = image_name.split(\".\")[0]\n",
    "                    image_path = timeframe_images_path + os.sep + image_name\n",
    "                    data += \"{},{},{}\\n\".format(image_index, image_path, count_class)\n",
    "                \n",
    "        file_csv.write(data)\n",
    "CUT_FACTOR = 6\n",
    "generate_csv_classes(CSV_PATH, cut_factor=CUT_FACTOR)"
   ]
  },
  {
   "cell_type": "markdown",
   "metadata": {},
   "source": [
    "## Загрузчики данных"
   ]
  },
  {
   "cell_type": "code",
   "execution_count": 25,
   "metadata": {},
   "outputs": [],
   "source": [
    "VALIDATION_SPLIT = 0.4\n",
    "TEST_SPLIT = 0.5\n",
    "BATCH_SIZE = 1"
   ]
  },
  {
   "cell_type": "code",
   "execution_count": 26,
   "metadata": {},
   "outputs": [
    {
     "name": "stdout",
     "output_type": "stream",
     "text": [
      "Number of batches in train loader: 3115 (3115 images)\n",
      "Number of batches in validation loader: 2076 (2076 images)\n"
     ]
    }
   ],
   "source": [
    "data = MyCustomDataset(CSV_PATH)\n",
    "\n",
    "dataset_size = len(data) \n",
    "indices = list(range(dataset_size)) \n",
    "\n",
    "split = int(VALIDATION_SPLIT * dataset_size)\n",
    "\n",
    "np.random.seed(RANDOM_SEED) \n",
    "np.random.shuffle(indices)\n",
    "train_indices, val_indices = indices[split:], indices[:split]\n",
    "\n",
    "train_sampler = SubsetRandomSampler(train_indices) \n",
    "valid_sampler = SubsetRandomSampler(val_indices)\n",
    "\n",
    "train_loader = DataLoader(data, batch_size=BATCH_SIZE, num_workers=0, sampler=train_sampler)\n",
    "\n",
    "val_loader = DataLoader(data, batch_size = BATCH_SIZE, num_workers=0, sampler=valid_sampler)\n",
    "\n",
    "print(\"Number of batches in train loader: {} ({} images)\".format(len(train_loader), len(train_loader) * BATCH_SIZE))\n",
    "print(\"Number of batches in validation loader: {} ({} images)\".format(len(val_loader), len(val_loader) * BATCH_SIZE))"
   ]
  },
  {
   "cell_type": "code",
   "execution_count": 27,
   "metadata": {},
   "outputs": [],
   "source": [
    "FEATURES_MASK_PATH = \"features_resnet_8000.npy\" # путь к файлу с маской признаков (в данном случае на 8192 штуки)\n",
    "TRAIN_CSV_PATH = \"train.csv\"\n",
    "VALIDATION_CSV_PATH = \"val.csv\"\n",
    "TEST_CSV_PATH = \"test.csv\""
   ]
  },
  {
   "cell_type": "markdown",
   "metadata": {},
   "source": [
    "### Отбор признаков (можно пропустить)\n",
    "Каждую итерацию исключается ровно половина признаков, выявление наиболее важных происходит на 500, 1000, ... объектах в зависимости от текущего количества неисключенных признаков. В конце остаётся ~4000, которые можно сохранить в csv или продолжить работу.\n"
   ]
  },
  {
   "cell_type": "code",
   "execution_count": 28,
   "metadata": {},
   "outputs": [],
   "source": [
    "from sklearn.feature_selection import SelectKBest, chi2\n",
    "\n",
    "def select_features(mask, number, k):\n",
    "#     inds = np.random.choice(len(data), size=min(len(data), number), replace=False)\n",
    "    X = []\n",
    "    y = []\n",
    "    for i, (images, labels) in enumerate(train_loader):\n",
    "        G_matrix = our_resnet_18(torch.reshape(images, (1, 3, 224, 224)).to(DEVICE))\n",
    "        X.append((G_matrix.to(CPU).detach().numpy().reshape((1,512*512))[0][mask] + 1) / 2)\n",
    "        y.append(labels)\n",
    "        if i > min(len(data), number):\n",
    "            break\n",
    "    selector = SelectKBest(chi2, k=k)\n",
    "\n",
    "    selector.fit(X, y)\n",
    "    return selector.get_support(indices=True)"
   ]
  },
  {
   "cell_type": "code",
   "execution_count": 29,
   "metadata": {},
   "outputs": [
    {
     "name": "stdout",
     "output_type": "stream",
     "text": [
      "500 objects\n"
     ]
    },
    {
     "name": "stderr",
     "output_type": "stream",
     "text": [
      "c:\\users\\valery\\appdata\\local\\programs\\python\\python37\\lib\\site-packages\\ipykernel_launcher.py:8: FutureWarning: Using a non-tuple sequence for multidimensional indexing is deprecated; use `arr[tuple(seq)]` instead of `arr[seq]`. In the future this will be interpreted as an array index, `arr[np.array(seq)]`, which will result either in an error or a different result.\n",
      "  \n"
     ]
    },
    {
     "name": "stdout",
     "output_type": "stream",
     "text": [
      "n_features = 131072\n",
      "38.89872169494629 seconds spent\n",
      "1000 objects\n"
     ]
    },
    {
     "name": "stderr",
     "output_type": "stream",
     "text": [
      "c:\\users\\valery\\appdata\\local\\programs\\python\\python37\\lib\\site-packages\\ipykernel_launcher.py:8: FutureWarning: Using a non-tuple sequence for multidimensional indexing is deprecated; use `arr[tuple(seq)]` instead of `arr[seq]`. In the future this will be interpreted as an array index, `arr[np.array(seq)]`, which will result either in an error or a different result.\n",
      "  \n"
     ]
    },
    {
     "name": "stdout",
     "output_type": "stream",
     "text": [
      "n_features = 65536\n",
      "115.50410890579224 seconds spent\n",
      "2000 objects\n"
     ]
    },
    {
     "name": "stderr",
     "output_type": "stream",
     "text": [
      "c:\\users\\valery\\appdata\\local\\programs\\python\\python37\\lib\\site-packages\\ipykernel_launcher.py:8: FutureWarning: Using a non-tuple sequence for multidimensional indexing is deprecated; use `arr[tuple(seq)]` instead of `arr[seq]`. In the future this will be interpreted as an array index, `arr[np.array(seq)]`, which will result either in an error or a different result.\n",
      "  \n"
     ]
    },
    {
     "name": "stdout",
     "output_type": "stream",
     "text": [
      "n_features = 32768\n",
      "261.7340965270996 seconds spent\n",
      "4000 objects\n"
     ]
    },
    {
     "name": "stderr",
     "output_type": "stream",
     "text": [
      "c:\\users\\valery\\appdata\\local\\programs\\python\\python37\\lib\\site-packages\\ipykernel_launcher.py:8: FutureWarning: Using a non-tuple sequence for multidimensional indexing is deprecated; use `arr[tuple(seq)]` instead of `arr[seq]`. In the future this will be interpreted as an array index, `arr[np.array(seq)]`, which will result either in an error or a different result.\n",
      "  \n"
     ]
    },
    {
     "name": "stdout",
     "output_type": "stream",
     "text": [
      "n_features = 16384\n",
      "488.13889718055725 seconds spent\n",
      "8000 objects\n",
      "n_features = 8192\n",
      "705.859610080719 seconds spent\n"
     ]
    },
    {
     "name": "stderr",
     "output_type": "stream",
     "text": [
      "c:\\users\\valery\\appdata\\local\\programs\\python\\python37\\lib\\site-packages\\ipykernel_launcher.py:8: FutureWarning: Using a non-tuple sequence for multidimensional indexing is deprecated; use `arr[tuple(seq)]` instead of `arr[seq]`. In the future this will be interpreted as an array index, `arr[np.array(seq)]`, which will result either in an error or a different result.\n",
      "  \n"
     ]
    }
   ],
   "source": [
    "import time\n",
    "start_time = time.time()\n",
    "mask_history = []\n",
    "\n",
    "mask = np.array([i for i in range(262144)])\n",
    "while len(mask) > 10000:\n",
    "    print(500 * 262144 // len(mask), 'objects')\n",
    "    mask = mask[[list(select_features(mask, 500 * 262144 // len(mask), len(mask) // 2))]]\n",
    "    mask_history.append(mask)\n",
    "    print('n_features =', len(mask))\n",
    "    print((time.time() - start_time), 'seconds spent')"
   ]
  },
  {
   "cell_type": "markdown",
   "metadata": {},
   "source": [
    "Сохраним номера признаков на разных шагах в файл на случай их утери."
   ]
  },
  {
   "cell_type": "code",
   "execution_count": 30,
   "metadata": {},
   "outputs": [],
   "source": [
    "from numpy import asarray, save\n",
    "\n",
    "save('features_resnet_65000.npy', asarray(mask_history[-4]))\n",
    "save('features_resnet_32000.npy', asarray(mask_history[-3]))\n",
    "save('features_resnet_16000.npy', asarray(mask_history[-2]))\n",
    "save('features_resnet_8000.npy', asarray(mask_history[-1]))"
   ]
  },
  {
   "cell_type": "markdown",
   "metadata": {},
   "source": [
    "## Перегонка картинок в их признаковое описание\n",
    "Выполнение этого блока необходимо, если у вас нет сконвертированных данных в .csv\n",
    "\n",
    "Если таковые есть, то этот блок стоит пропустить"
   ]
  },
  {
   "cell_type": "code",
   "execution_count": 31,
   "metadata": {},
   "outputs": [
    {
     "name": "stdout",
     "output_type": "stream",
     "text": [
      "Number of selected features: 8192\n"
     ]
    }
   ],
   "source": [
    "mask = np.load(FEATURES_MASK_PATH)\n",
    "print(\"Number of selected features:\", len(mask))"
   ]
  },
  {
   "cell_type": "code",
   "execution_count": 32,
   "metadata": {},
   "outputs": [
    {
     "name": "stdout",
     "output_type": "stream",
     "text": [
      "0 batches out of 3115 completed\n",
      "1000 batches out of 3115 completed\n",
      "2000 batches out of 3115 completed\n",
      "3000 batches out of 3115 completed\n",
      "Done. Converting results to Pandas DataFrame...\n",
      "Done.\n"
     ]
    }
   ],
   "source": [
    "def get_features_dataset(loader, features, model):\n",
    "    X = []\n",
    "    y = []\n",
    "    size = len(loader)\n",
    "    for i, (images, labels) in enumerate(loader):\n",
    "        actual_batch_size = min(images.shape[0], BATCH_SIZE)\n",
    "        G_matrices = model(torch.reshape(images, (actual_batch_size, 3, *IMAGE_NORMAL_SIZE)).to(DEVICE))\n",
    "\n",
    "        for j in range(actual_batch_size):\n",
    "            X.append(G_matrices[j].cpu().detach().numpy().reshape((1, GRAM_SIZE*GRAM_SIZE))[0][features])\n",
    "        y += labels.tolist()\n",
    "        if (i % 1000) == 0:\n",
    "            print(i, \"batches out of\", size, \"completed\")\n",
    "    print(\"Done. Converting results to Pandas DataFrame...\")\n",
    "    df = pd.DataFrame(data=X)\n",
    "    df[\"label\"] = y\n",
    "    print(\"Done.\")\n",
    "    return df\n",
    "\n",
    "df_train = get_features_dataset(train_loader, mask, our_resnet_18)"
   ]
  },
  {
   "cell_type": "code",
   "execution_count": 33,
   "metadata": {},
   "outputs": [
    {
     "name": "stdout",
     "output_type": "stream",
     "text": [
      "0 batches out of 2076 completed\n",
      "1000 batches out of 2076 completed\n",
      "2000 batches out of 2076 completed\n",
      "Done. Converting results to Pandas DataFrame...\n",
      "Done.\n"
     ]
    }
   ],
   "source": [
    "df_val = get_features_dataset(val_loader, mask, our_resnet_18)"
   ]
  },
  {
   "cell_type": "code",
   "execution_count": 34,
   "metadata": {},
   "outputs": [],
   "source": [
    "test_size = int(df_val.shape[0] * TEST_SPLIT)\n",
    "df_test, df_val = df_val.iloc[:test_size, :], df_val.iloc[test_size:, :]"
   ]
  },
  {
   "cell_type": "code",
   "execution_count": 35,
   "metadata": {},
   "outputs": [
    {
     "data": {
      "text/plain": [
       "((3115, 8193), (1038, 8193), (1038, 8193))"
      ]
     },
     "execution_count": 35,
     "metadata": {},
     "output_type": "execute_result"
    }
   ],
   "source": [
    "df_train.shape, df_val.shape, df_test.shape"
   ]
  },
  {
   "cell_type": "code",
   "execution_count": 36,
   "metadata": {},
   "outputs": [
    {
     "name": "stdout",
     "output_type": "stream",
     "text": [
      "Saved train data\n",
      "Saved validation data\n",
      "Saved test data\n"
     ]
    }
   ],
   "source": [
    "# можно пропустить, если сохранение не требуется\n",
    "df_train.to_csv(TRAIN_CSV_PATH)\n",
    "print(\"Saved train data\")\n",
    "\n",
    "df_val.to_csv(VALIDATION_CSV_PATH)\n",
    "print(\"Saved validation data\")\n",
    "\n",
    "df_test.to_csv(TEST_CSV_PATH)\n",
    "print(\"Saved test data\")"
   ]
  },
  {
   "cell_type": "markdown",
   "metadata": {},
   "source": [
    "## Загрузка данных из CSV файлов\n",
    "Этот блок необходимо выполнить, если был пропущен предыдущий"
   ]
  },
  {
   "cell_type": "code",
   "execution_count": 6,
   "metadata": {},
   "outputs": [
    {
     "name": "stdout",
     "output_type": "stream",
     "text": [
      "Loaded train data\n",
      "Loaded validation data\n",
      "Loaded test data\n"
     ]
    }
   ],
   "source": [
    "df_train = pd.read_csv(TRAIN_CSV_PATH)\n",
    "print(\"Loaded train data\")\n",
    "\n",
    "df_val = pd.read_csv(VALIDATION_CSV_PATH)\n",
    "print(\"Loaded validation data\")\n",
    "\n",
    "df_test = pd.read_csv(TEST_CSV_PATH)\n",
    "print(\"Loaded test data\")"
   ]
  },
  {
   "cell_type": "markdown",
   "metadata": {},
   "source": [
    "## Обучение и тестирование моделей"
   ]
  },
  {
   "cell_type": "code",
   "execution_count": 37,
   "metadata": {},
   "outputs": [],
   "source": [
    "import matplotlib.pyplot as plt\n",
    "import seaborn as sns\n",
    "sns.set()\n",
    "\n",
    "from sklearn.linear_model import SGDClassifier\n",
    "from sklearn.svm import SVC, LinearSVC\n",
    "from sklearn.metrics import f1_score, mean_squared_error, mean_squared_log_error, confusion_matrix, plot_confusion_matrix\n",
    "import joblib"
   ]
  },
  {
   "cell_type": "code",
   "execution_count": 38,
   "metadata": {},
   "outputs": [],
   "source": [
    "X_train = df_train.loc[:, df_train.columns != \"label\"]\n",
    "X_test = df_test.loc[:, df_test.columns != \"label\"]\n",
    "X_val = df_val.loc[:, df_val.columns != \"label\"]\n",
    "\n",
    "y_train = df_train[\"label\"]\n",
    "y_test = df_test[\"label\"]\n",
    "y_val = df_val[\"label\"]"
   ]
  },
  {
   "cell_type": "code",
   "execution_count": 39,
   "metadata": {},
   "outputs": [
    {
     "name": "stderr",
     "output_type": "stream",
     "text": [
      "c:\\users\\valery\\appdata\\local\\programs\\python\\python37\\lib\\site-packages\\ipykernel_launcher.py:3: SettingWithCopyWarning: \n",
      "A value is trying to be set on a copy of a slice from a DataFrame\n",
      "\n",
      "See the caveats in the documentation: http://pandas.pydata.org/pandas-docs/stable/indexing.html#indexing-view-versus-copy\n",
      "  This is separate from the ipykernel package so we can avoid doing imports until\n"
     ]
    }
   ],
   "source": [
    "def replace_1300(y): # объединение малочисленных классов\n",
    "    for i in y.index:\n",
    "        y[i] = max(y[i], 16)\n",
    "        \n",
    "replace_1300(y_train)\n",
    "replace_1300(y_test)\n",
    "replace_1300(y_val)"
   ]
  },
  {
   "cell_type": "markdown",
   "metadata": {},
   "source": [
    "## Используем SGD"
   ]
  },
  {
   "cell_type": "code",
   "execution_count": 40,
   "metadata": {},
   "outputs": [
    {
     "data": {
      "text/plain": [
       "SGDClassifier(n_jobs=-1)"
      ]
     },
     "execution_count": 40,
     "metadata": {},
     "output_type": "execute_result"
    }
   ],
   "source": [
    "sgd = SGDClassifier(n_jobs=-1, verbose=0)\n",
    "sgd.fit(X_train, y_train)"
   ]
  },
  {
   "cell_type": "code",
   "execution_count": 41,
   "metadata": {},
   "outputs": [
    {
     "name": "stdout",
     "output_type": "stream",
     "text": [
      "0.2861271676300578\n",
      "7.67533718689788\n"
     ]
    },
    {
     "name": "stderr",
     "output_type": "stream",
     "text": [
      "c:\\users\\valery\\appdata\\local\\programs\\python\\python37\\lib\\site-packages\\ipykernel_launcher.py:8: RuntimeWarning: invalid value encountered in true_divide\n",
      "  \n"
     ]
    },
    {
     "data": {
      "image/png": "[encoded data removed]",
      "text/plain": [
       "<Figure size 504x504 with 1 Axes>"
      ]
     },
     "metadata": {},
     "output_type": "display_data"
    }
   ],
   "source": [
    "sgd_predict = sgd.predict(X_val)\n",
    "#print(\"num of train examples:\", len(train_loader) * BATCH_SIZE )\n",
    "print(f1_score(y_val, sgd_predict, average=\"micro\"), mean_squared_error(y_val, sgd_predict), sep=\"\\n\")\n",
    "\n",
    "cmat = confusion_matrix(y_val, sgd_predict)\n",
    "plt.figure(figsize=(7, 7))\n",
    "sns.heatmap(\n",
    "    cmat / np.sum(cmat, axis=0),\n",
    "    annot=False, cbar=False,\n",
    "    xticklabels=[1300 + i*50 for i in range(13)],\n",
    "    yticklabels=[1300 + i*50 for i in range(13)],\n",
    "    cmap=\"Blues\") \n",
    "plt.show()"
   ]
  },
  {
   "cell_type": "markdown",
   "metadata": {},
   "source": [
    "## Используем SVM"
   ]
  },
  {
   "cell_type": "code",
   "execution_count": 42,
   "metadata": {},
   "outputs": [
    {
     "name": "stdout",
     "output_type": "stream",
     "text": [
      "[LibLinear]"
     ]
    },
    {
     "data": {
      "text/plain": [
       "LinearSVC(verbose=2)"
      ]
     },
     "execution_count": 42,
     "metadata": {},
     "output_type": "execute_result"
    }
   ],
   "source": [
    "linear_svc = LinearSVC(verbose=2, max_iter=1000)\n",
    "linear_svc.fit(X_train, y_train)"
   ]
  },
  {
   "cell_type": "code",
   "execution_count": 43,
   "metadata": {},
   "outputs": [
    {
     "name": "stdout",
     "output_type": "stream",
     "text": [
      "num of train examples: 3115\n",
      "0.3468208092485549\n",
      "7.2784200385356455\n"
     ]
    },
    {
     "data": {
      "image/png": "[encoded data removed]",
      "text/plain": [
       "<Figure size 432x432 with 1 Axes>"
      ]
     },
     "metadata": {},
     "output_type": "display_data"
    }
   ],
   "source": [
    "svc_predict = linear_svc.predict(X_test)\n",
    "print(\"num of train examples:\", len(train_loader) * BATCH_SIZE )\n",
    "print(f1_score(y_test, svc_predict, average=\"micro\"), mean_squared_error(y_test, svc_predict), sep=\"\\n\")\n",
    "\n",
    "cmat = confusion_matrix(y_test, svc_predict)\n",
    "plt.figure(figsize=(6,6))\n",
    "sns.heatmap(\n",
    "    cmat / np.sum(cmat, axis=0),\n",
    "    annot=False, cbar=False)\n",
    "plt.show()"
   ]
  },
  {
   "cell_type": "code",
   "execution_count": 49,
   "metadata": {},
   "outputs": [
    {
     "name": "stdout",
     "output_type": "stream",
     "text": [
      "\n"
     ]
    },
    {
     "data": {
      "image/png": "[encoded data removed]",
      "text/plain": [
       "<Figure size 432x288 with 1 Axes>"
      ]
     },
     "metadata": {},
     "output_type": "display_data"
    },
    {
     "data": {
      "text/plain": [
       "{'whiskers': [<matplotlib.lines.Line2D at 0x1da930c2940>,\n",
       "  <matplotlib.lines.Line2D at 0x1da930c2cc0>],\n",
       " 'caps': [<matplotlib.lines.Line2D at 0x1da930c2dd8>,\n",
       "  <matplotlib.lines.Line2D at 0x1da930b8400>],\n",
       " 'boxes': [<matplotlib.lines.Line2D at 0x1da930c2518>],\n",
       " 'medians': [<matplotlib.lines.Line2D at 0x1da930b8780>],\n",
       " 'fliers': [<matplotlib.lines.Line2D at 0x1da930b8b00>],\n",
       " 'means': []}"
      ]
     },
     "execution_count": 49,
     "metadata": {},
     "output_type": "execute_result"
    },
    {
     "data": {
      "image/png": "[encoded data removed]",
      "text/plain": [
       "<Figure size 432x288 with 1 Axes>"
      ]
     },
     "metadata": {},
     "output_type": "display_data"
    }
   ],
   "source": [
    "from sklearn.metrics import f1_score, mean_squared_error, mean_squared_log_error, confusion_matrix, plot_confusion_matrix\n",
    "import matplotlib.pyplot as plt\n",
    "NUM_OF_CLASSES = 13\n",
    "print()\n",
    "#[np.where(y_test==16)])\n",
    "squared_error = np.power(np.power(y_test.values-svc_predict, 2), 1/2)/2\n",
    "squared_errors_by_classes = []\n",
    "classes = list(range(NUM_OF_CLASSES))\n",
    "for i in range(NUM_OF_CLASSES):\n",
    "    index_mask = np.where(y_test==i+16)\n",
    "    squared_errors_by_classes.append(np.power(np.power(y_test.values[index_mask]-svc_predict[index_mask], 2), 1/2)/2)\n",
    "plt.boxplot(squared_errors_by_classes, labels=classes)\n",
    "plt.show()\n",
    "plt.boxplot(squared_error)"
   ]
  },
  {
   "cell_type": "code",
   "execution_count": null,
   "metadata": {},
   "outputs": [],
   "source": []
  }
 ],
 "metadata": {
  "kernelspec": {
   "display_name": "Python 3",
   "language": "python",
   "name": "python3"
  },
  "language_info": {
   "codemirror_mode": {
    "name": "ipython",
    "version": 3
   },
   "file_extension": ".py",
   "mimetype": "text/x-python",
   "name": "python",
   "nbconvert_exporter": "python",
   "pygments_lexer": "ipython3",
   "version": "3.7.3"
  }
 },
 "nbformat": 4,
 "nbformat_minor": 2
}
